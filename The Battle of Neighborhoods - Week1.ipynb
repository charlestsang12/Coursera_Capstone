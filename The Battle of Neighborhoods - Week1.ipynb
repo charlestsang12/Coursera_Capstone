{
    "cells": [
        {
            "cell_type": "markdown",
            "metadata": {
                "collapsed": true
            },
            "source": "# Peer Graded Assignment\n##  Battle of Neighbourhoods - Week 1\n\n### Subject: Brexit: A Challenge or Opportunity for Catering Industry - Data Analysis of London Restaurant\n### By: Charles Tsang\n\n#### Introduction\nTwenty-Twenty has a landmark ring to it. The Start of a new decade prompts bigger-than-usual thought about the future. Britain\u2019s reckoning with Brexit will leave a significant impact on the hospitality and food industry. However, Brexit does offer the potential for re-setting the direction of food business throughout the UK. \nThroughout its history, London\u2019s dominance has often been portrayed as a \u2018problem\u2019 for its host nation. Apart from that, it is simultaneously the political, economic, business and cultural art centre. Therefore, London is very diverse. There are many different restaurants around London, including French, Italian, Asian, African, Middle Eastern and American ones.\n\n#### Business Problem Description\nAs an investor agent, we are looking to take its opportunity to explore expansion after the Brexit. Lack of confidence, some restaurants are decided to shut down their business and moved back to their countries. Along with recent organic trend, many restaurants/caf\u00e9s are available to rent in this moment. Traditionally, London is overwhelmingly seen as expensive and inaccessible. The preliminary target is to create a high-end / fine dining restaurants with organic mix and healthy. In order to survive in such competitive market, a strategic plan is essential. Wanna bet? Below factors will be explored in order to decide on the physical location in London:\n\n1.\tLondon Population\n2.\tLondon Demographics\n3.\tThe location competitors\n4.\tCuisine and Ingredient served by competitors\n5.\tSegmentation of Market\n\nWhen we consider all these factors, we can create a map and information chart where to establish the restaurant, ingredient used and each district is clustered according to the venue density.\n\n#### Target Audience\nConsidering the diversity of London, there is a high multicultural sense. It ranges from Londoners, tourists and those who are passionate about organic food. To recommend the correct location, our company has appointed me to work on Data Science project for researching the best choice. This research would help anyone who wants to start their catering business on organic food in London after the Brexit. \n\n#### Success Criteria\nThe success criteria of the project will be a good recommendation of borough/Neighborhood choice and nearest suppliers of ingredients for organic restaurant.\n"
        },
        {
            "cell_type": "markdown",
            "metadata": {},
            "source": "#### Data Description\nTo consider the problem, we can list the data as below:\n\nOne city will be analyzed in this project: London. And this project will base on the public data from Wikipedia and Foursquare. \nIn the Wikipedia, the London is treated as synonymous to the \u201cGreat London Area\u201d, meaning there are the areas within the London Area Postcode. In my project, we focus only in the neighborhoods within the London Post Code. Hence, the London area consists 32 Boroughs and the \u201cCity of London\u201c. The dataset exists for free on the web. Link to the dataset is [https://en.wikipedia.org/wiki/List_of_areas_of_London](https://en.wikipedia.org/wiki/List_of_areas_of_London)"
        },
        {
            "cell_type": "code",
            "execution_count": null,
            "metadata": {},
            "outputs": [],
            "source": ""
        },
        {
            "cell_type": "markdown",
            "metadata": {},
            "source": "Besides, the Foursquare API will be used to get the geographical location for the London area, as well as leveraging to provision venues information for each neighborhood. Then, the venue will provide the categories needed for the analysis to determine the viability of the selected location for the restaurant. Link for the Foursquare API is [https://developer.foursquare.com/](https://developer.foursquare.com/)."
        },
        {
            "cell_type": "markdown",
            "metadata": {},
            "source": "#### How the data used to solve the problem>\nBoth datasets can consider the venue within the neighborhood of London Postcode area. Within a certain mile radius, the restaurant can be treated as the types of restaurant. Because of the Foursquare API constraint, the limit is 100 venues and the radius is 750 meter for each borough from their given latitude and longitude information. The accessibility and ease of supplies of ingredients are considered. Also, amenities and transportation connection are correlated.\n"
        },
        {
            "cell_type": "code",
            "execution_count": null,
            "metadata": {},
            "outputs": [],
            "source": ""
        }
    ],
    "metadata": {
        "kernelspec": {
            "display_name": "Python 3.6",
            "language": "python",
            "name": "python3"
        },
        "language_info": {
            "codemirror_mode": {
                "name": "ipython",
                "version": 3
            },
            "file_extension": ".py",
            "mimetype": "text/x-python",
            "name": "python",
            "nbconvert_exporter": "python",
            "pygments_lexer": "ipython3",
            "version": "3.6.9"
        }
    },
    "nbformat": 4,
    "nbformat_minor": 1
}