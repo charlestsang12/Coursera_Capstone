{
    "cells": [
        {
            "cell_type": "markdown",
            "metadata": {
                "collapsed": true
            },
            "source": "# Peer Graded Assignment\n##  Battle of Neighbourhoods - Week 1\n\n### Subject: Brexit: A Challenge or Opportunity for Catering Industry - Data Analysis of London Restaurant\n### By: Charles Tsang\n\n#### Introduction\nTwenty-Twenty has a landmark ring to it. The Start of a new decade prompts bigger-than-usual thought about the future. Britain\u2019s reckoning with Brexit will leave a significant impact on the hospitality and food industry. However, Brexit does offer the potential for re-setting the direction of food business throughout the UK. \nThroughout its history, London\u2019s dominance has often been portrayed as a \u2018problem\u2019 for its host nation. Apart from that, it is simultaneously the political, economic, business and cultural art centre. Therefore, London is very diverse. There are many different restaurants around London, including French, Italian, Asian, African, Middle Eastern and American ones.\n\n#### Business Problem Description\nAs an investor agent, we are looking to take its opportunity to explore expansion after the Brexit. Lack of confidence, some restaurants are decided to shut down their business and moved back to their countries. Along with recent organic trend, many restaurants/caf\u00e9s are available to rent in this moment. Traditionally, London is overwhelmingly seen as expensive and inaccessible. The preliminary target is to create a high-end / fine dining restaurants with organic mix and healthy. In order to survive in such competitive market, a strategic plan is essential. Wanna bet? Below factors will be explored in order to decide on the physical location in London:\n\n1.\tLondon Population\n2.\tLondon Demographics\n3.\tThe location competitors\n4.\tCuisine and Ingredient served by competitors\n5.\tSegmentation of Market\n\nWhen we consider all these factors, we can create a map and information chart where to establish the restaurant, ingredient used and each district is clustered according to the venue density.\n\n#### Target Audience\nConsidering the diversity of London, there is a high multicultural sense. It ranges from Londoners, tourists and those who are passionate about organic food. To recommend the correct location, our company has appointed me to work on Data Science project for researching the best choice. This research would help anyone who wants to start their catering business on organic food in London after the Brexit. \n\n#### Success Criteria\nThe success criteria of the project will be a good recommendation of borough/Neighborhood choice and nearest suppliers of ingredients for organic restaurant.\n"
        },
        {
            "cell_type": "markdown",
            "metadata": {},
            "source": "#### Data Description\nTo consider the problem, we can list the data as below:\n\nOne city will be analyzed in this project: London. And this project will base on the public data from Wikipedia and Foursquare. \nIn the Wikipedia, the London is treated as synonymous to the \u201cGreat London Area\u201d, meaning there are the areas within the London Area Postcode. In my project, we focus only in the neighborhoods within the London Post Code. Hence, the London area consists 32 Boroughs and the \u201cCity of London\u201c. The dataset exists for free on the web. Link to the dataset is [https://en.wikipedia.org/wiki/List_of_areas_of_London](https://en.wikipedia.org/wiki/List_of_areas_of_London)"
        },
        {
            "cell_type": "code",
            "execution_count": 1,
            "metadata": {},
            "outputs": [],
            "source": "import requests\nimport pandas as pd\nfrom bs4 import BeautifulSoup"
        },
        {
            "cell_type": "code",
            "execution_count": 5,
            "metadata": {},
            "outputs": [],
            "source": "wikipedia_link = 'https://en.wikipedia.org/wiki/List_of_areas_of_London'\nheaders = {'User-Agent': 'Mozilla/5.0 (Windows NT 10.0; Win64; x64; rv:64.0) Gecko/20100101 Firefox/64.0'}\nwikipedia_page = requests.get(wikipedia_link, headers = headers)\n#wikipedia_page\n\n# Cleans html file\nsoup = BeautifulSoup(wikipedia_page.content, 'html.parser')\n# This extracts the \"tbody\" within the table where class is \"wikitable sortable\"\ntable = soup.find('table', {'class':'wikitable sortable'}).tbody\n# table\n\n# Extracts all \"tr\" (table rows) within the table above\nrows = table.find_all('tr')\n# rows\n\n# Extracts the column headers, removes and replaces possible '\\n' with space for the \"th\" tag\ncolumns = [i.text.replace('\\n', '')\n           for i in rows[0].find_all('th')]\n# columns\n\n# Converts columns to pd dataframe\ndf = pd.DataFrame(columns = columns)\n# df"
        },
        {
            "cell_type": "code",
            "execution_count": 6,
            "metadata": {},
            "outputs": [],
            "source": "for i in range(1, len(rows)):\n    tds = rows[i].find_all('td')\n    \n    \n    if len(tds) == 7:\n        values = [tds[0].text, tds[1].text, tds[2].text.replace('\\n', ''.replace('\\xa0','')), tds[3].text, tds[4].text.replace('\\n', ''.replace('\\xa0','')), tds[5].text.replace('\\n', ''.replace('\\xa0','')), tds[6].text.replace('\\n', ''.replace('\\xa0',''))]\n    else:\n        values = [td.text.replace('\\n', '').replace('\\xa0','') for td in tds]\n        \n        df = df.append(pd.Series(values, index = columns), ignore_index = True)\n\n        df"
        },
        {
            "cell_type": "code",
            "execution_count": 7,
            "metadata": {},
            "outputs": [
                {
                    "data": {
                        "text/html": "<div>\n<style scoped>\n    .dataframe tbody tr th:only-of-type {\n        vertical-align: middle;\n    }\n\n    .dataframe tbody tr th {\n        vertical-align: top;\n    }\n\n    .dataframe thead th {\n        text-align: right;\n    }\n</style>\n<table border=\"1\" class=\"dataframe\">\n  <thead>\n    <tr style=\"text-align: right;\">\n      <th></th>\n      <th>Location</th>\n      <th>London\u00a0borough</th>\n      <th>Post town</th>\n      <th>Postcode\u00a0district</th>\n      <th>Dial\u00a0code</th>\n      <th>OS grid ref</th>\n    </tr>\n  </thead>\n  <tbody>\n    <tr>\n      <th>0</th>\n      <td>Abbey Wood</td>\n      <td>Bexley,  Greenwich [7]</td>\n      <td>LONDON</td>\n      <td>SE2</td>\n      <td>020</td>\n      <td>TQ465785</td>\n    </tr>\n    <tr>\n      <th>1</th>\n      <td>Acton</td>\n      <td>Ealing, Hammersmith and Fulham[8]</td>\n      <td>LONDON</td>\n      <td>W3, W4</td>\n      <td>020</td>\n      <td>TQ205805</td>\n    </tr>\n    <tr>\n      <th>2</th>\n      <td>Addington</td>\n      <td>Croydon[8]</td>\n      <td>CROYDON</td>\n      <td>CR0</td>\n      <td>020</td>\n      <td>TQ375645</td>\n    </tr>\n    <tr>\n      <th>3</th>\n      <td>Addiscombe</td>\n      <td>Croydon[8]</td>\n      <td>CROYDON</td>\n      <td>CR0</td>\n      <td>020</td>\n      <td>TQ345665</td>\n    </tr>\n    <tr>\n      <th>4</th>\n      <td>Albany Park</td>\n      <td>Bexley</td>\n      <td>BEXLEY, SIDCUP</td>\n      <td>DA5, DA14</td>\n      <td>020</td>\n      <td>TQ478728</td>\n    </tr>\n  </tbody>\n</table>\n</div>",
                        "text/plain": "      Location                     London\u00a0borough       Post town  \\\n0   Abbey Wood             Bexley,  Greenwich [7]          LONDON   \n1        Acton  Ealing, Hammersmith and Fulham[8]          LONDON   \n2    Addington                         Croydon[8]         CROYDON   \n3   Addiscombe                         Croydon[8]         CROYDON   \n4  Albany Park                             Bexley  BEXLEY, SIDCUP   \n\n  Postcode\u00a0district Dial\u00a0code OS grid ref  \n0               SE2       020    TQ465785  \n1            W3, W4       020    TQ205805  \n2               CR0       020    TQ375645  \n3               CR0       020    TQ345665  \n4         DA5, DA14       020    TQ478728  "
                    },
                    "execution_count": 7,
                    "metadata": {},
                    "output_type": "execute_result"
                }
            ],
            "source": "df.head()"
        },
        {
            "cell_type": "code",
            "execution_count": 8,
            "metadata": {},
            "outputs": [
                {
                    "data": {
                        "text/html": "<div>\n<style scoped>\n    .dataframe tbody tr th:only-of-type {\n        vertical-align: middle;\n    }\n\n    .dataframe tbody tr th {\n        vertical-align: top;\n    }\n\n    .dataframe thead th {\n        text-align: right;\n    }\n</style>\n<table border=\"1\" class=\"dataframe\">\n  <thead>\n    <tr style=\"text-align: right;\">\n      <th></th>\n      <th>Location</th>\n      <th>Borough</th>\n      <th>Postcode</th>\n      <th>Post-town</th>\n    </tr>\n  </thead>\n  <tbody>\n    <tr>\n      <th>0</th>\n      <td>Abbey Wood</td>\n      <td>Bexley,  Greenwich</td>\n      <td>SE2</td>\n      <td>LONDON</td>\n    </tr>\n    <tr>\n      <th>1</th>\n      <td>Acton</td>\n      <td>Ealing, Hammersmith and Fulham</td>\n      <td>W3</td>\n      <td>LONDON</td>\n    </tr>\n    <tr>\n      <th>2</th>\n      <td>Acton</td>\n      <td>Ealing, Hammersmith and Fulham</td>\n      <td>W4</td>\n      <td>LONDON</td>\n    </tr>\n    <tr>\n      <th>3</th>\n      <td>Angel</td>\n      <td>Islington</td>\n      <td>EC1</td>\n      <td>LONDON</td>\n    </tr>\n    <tr>\n      <th>4</th>\n      <td>Angel</td>\n      <td>Islington</td>\n      <td>N1</td>\n      <td>LONDON</td>\n    </tr>\n  </tbody>\n</table>\n</div>",
                        "text/plain": "     Location                         Borough Postcode Post-town\n0  Abbey Wood             Bexley,  Greenwich       SE2    LONDON\n1       Acton  Ealing, Hammersmith and Fulham       W3    LONDON\n2       Acton  Ealing, Hammersmith and Fulham       W4    LONDON\n3       Angel                       Islington      EC1    LONDON\n4       Angel                       Islington       N1    LONDON"
                    },
                    "execution_count": 8,
                    "metadata": {},
                    "output_type": "execute_result"
                }
            ],
            "source": "df = df.rename(index=str, columns = {'Location': 'Location', 'London\\xa0borough': 'Borough', 'Post town': 'Post-town', 'Postcode\\xa0district': 'Postcode', 'Dial\\xa0code': 'Dial-code', 'OS grid ref': 'OSGridRef'})\ndf['Borough'] = df['Borough'].map(lambda x: x.rstrip(']').rstrip('0123456789').rstrip('['))\ndf0 = df.drop('Postcode', axis=1).join(df['Postcode'].str.split(',', expand=True).stack().reset_index(level=1, drop=True).rename('Postcode'))\ndf1 = df0[['Location', 'Borough', 'Postcode', 'Post-town']].reset_index(drop=True)\ndf1.head()"
        },
        {
            "cell_type": "code",
            "execution_count": 9,
            "metadata": {},
            "outputs": [],
            "source": "df2 = df1\ndf21 = df2[df2['Post-town'].str.contains('LONDON')]\ndf3 = df21[['Location', 'Borough', 'Postcode']].reset_index(drop=True)\ndf_london = df3"
        },
        {
            "cell_type": "code",
            "execution_count": 10,
            "metadata": {},
            "outputs": [],
            "source": "!pip -q install geocoder\nimport geocoder"
        },
        {
            "cell_type": "code",
            "execution_count": 11,
            "metadata": {},
            "outputs": [],
            "source": "def get_latlng(arcgis_geocoder):\n    \n    # Initialize the Location (lat. and long.) to \"None\"\n    lat_lng_coords = None\n    \n    # While loop helps to create a continous run until all the location coordinates are geocoded\n    \n    while(lat_lng_coords is None):\n        g = geocoder.arcgis('{}, London, United Kingdom'.format(arcgis_geocoder))\n        lat_lng_coords = g.latlng\n    return lat_lng_coords"
        },
        {
            "cell_type": "code",
            "execution_count": null,
            "metadata": {},
            "outputs": [],
            "source": "postal_codes = df_london['Postcode']    \ncoordinates = [get_latlng(postal_code) for postal_code in postal_codes.tolist()]"
        },
        {
            "cell_type": "code",
            "execution_count": null,
            "metadata": {},
            "outputs": [],
            "source": "# This will store the London dataframe with coordinates\ndf_london_loc = df_london\n\n# The obtained coordinates (latitude and longitude) are joined with the dataframe as shown\ndf_london_coordinates = pd.DataFrame(coordinates, columns = ['Latitude', 'Longitude'])\ndf_london_loc['Latitude'] = df_london_coordinates['Latitude']\ndf_london_loc['Longitude'] = df_london_coordinates['Longitude']"
        },
        {
            "cell_type": "code",
            "execution_count": null,
            "metadata": {},
            "outputs": [],
            "source": "df_london_loc.head()"
        },
        {
            "cell_type": "markdown",
            "metadata": {},
            "source": "Besides, the Foursquare API will be used to get the geographical location for the London area, as well as leveraging to provision venues information for each neighborhood. Then, the venue will provide the categories needed for the analysis to determine the viability of the selected location for the restaurant. Link for the Foursquare API is [https://developer.foursquare.com/](https://developer.foursquare.com/)."
        },
        {
            "cell_type": "markdown",
            "metadata": {},
            "source": "#### How the data used to solve the problem>\nBoth datasets can consider the venue within the neighborhood of London Postcode area. Within a certain mile radius, the restaurant can be treated as the types of restaurant. Because of the Foursquare API constraint, the limit is 100 venues and the radius is 750 meter for each borough from their given latitude and longitude information. The accessibility and ease of supplies of ingredients are considered. Also, amenities and transportation connection are correlated.\n"
        },
        {
            "cell_type": "code",
            "execution_count": null,
            "metadata": {},
            "outputs": [],
            "source": ""
        }
    ],
    "metadata": {
        "kernelspec": {
            "display_name": "Python 3.6",
            "language": "python",
            "name": "python3"
        },
        "language_info": {
            "codemirror_mode": {
                "name": "ipython",
                "version": 3
            },
            "file_extension": ".py",
            "mimetype": "text/x-python",
            "name": "python",
            "nbconvert_exporter": "python",
            "pygments_lexer": "ipython3",
            "version": "3.6.9"
        }
    },
    "nbformat": 4,
    "nbformat_minor": 1
}